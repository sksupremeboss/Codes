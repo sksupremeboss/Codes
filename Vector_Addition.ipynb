{
  "nbformat": 4,
  "nbformat_minor": 0,
  "metadata": {
    "colab": {
      "provenance": [],
      "gpuType": "T4"
    },
    "kernelspec": {
      "name": "python3",
      "display_name": "Python 3"
    },
    "language_info": {
      "name": "python"
    },
    "accelerator": "GPU"
  },
  "cells": [
    {
      "cell_type": "code",
      "execution_count": null,
      "metadata": {
        "colab": {
          "base_uri": "https://localhost:8080/"
        },
        "id": "xbcieem04i7L",
        "outputId": "e4ae3882-5fc0-4a2d-ff0b-e909ebb6a48c"
      },
      "outputs": [
        {
          "output_type": "stream",
          "name": "stdout",
          "text": [
            "nvcc: NVIDIA (R) Cuda compiler driver\n",
            "Copyright (c) 2005-2023 NVIDIA Corporation\n",
            "Built on Tue_Aug_15_22:02:13_PDT_2023\n",
            "Cuda compilation tools, release 12.2, V12.2.140\n",
            "Build cuda_12.2.r12.2/compiler.33191640_0\n"
          ]
        }
      ],
      "source": [
        "!nvcc --version"
      ]
    },
    {
      "cell_type": "code",
      "source": [
        "!pip install git+https://github.com/afnan47/cuda"
      ],
      "metadata": {
        "colab": {
          "base_uri": "https://localhost:8080/"
        },
        "id": "Qnlqo3SK4oWx",
        "outputId": "dc3be4af-9d64-46cb-fa6a-201437e8a773"
      },
      "execution_count": null,
      "outputs": [
        {
          "output_type": "stream",
          "name": "stdout",
          "text": [
            "Collecting git+https://github.com/afnan47/cuda\n",
            "  Cloning https://github.com/afnan47/cuda to /tmp/pip-req-build-_5tncj9a\n",
            "  Running command git clone --filter=blob:none --quiet https://github.com/afnan47/cuda /tmp/pip-req-build-_5tncj9a\n",
            "  Resolved https://github.com/afnan47/cuda to commit aac710a35f52bb78ab34d2e52517237941399eff\n",
            "  Preparing metadata (setup.py) ... \u001b[?25l\u001b[?25hdone\n",
            "Building wheels for collected packages: NVCCPlugin\n",
            "  Building wheel for NVCCPlugin (setup.py) ... \u001b[?25l\u001b[?25hdone\n",
            "  Created wheel for NVCCPlugin: filename=NVCCPlugin-0.0.2-py3-none-any.whl size=4289 sha256=d8ced294be7cf8f4532a76fd012018cbd15a39ab0ac2b215ed4696f60da3acf0\n",
            "  Stored in directory: /tmp/pip-ephem-wheel-cache-a6huwvzb/wheels/49/5f/e4/7e702e28e3f3bcc53255a22e3be48afd943d25c61c35dc2d87\n",
            "Successfully built NVCCPlugin\n",
            "Installing collected packages: NVCCPlugin\n",
            "Successfully installed NVCCPlugin-0.0.2\n"
          ]
        }
      ]
    },
    {
      "cell_type": "code",
      "source": [
        "%load_ext nvcc_plugin"
      ],
      "metadata": {
        "colab": {
          "base_uri": "https://localhost:8080/"
        },
        "id": "FxJp7mBa4yPH",
        "outputId": "2fdd2769-96f9-4332-902d-85280a8ae19a"
      },
      "execution_count": null,
      "outputs": [
        {
          "output_type": "stream",
          "name": "stdout",
          "text": [
            "created output directory at /content/src\n",
            "Out bin /content/result.out\n"
          ]
        }
      ]
    },
    {
      "cell_type": "code",
      "source": [
        "%%writefile add.cu\n",
        "\n",
        "#include<iostream>\n",
        "\n",
        "using namespace std;\n",
        "\n",
        "__global__ void add(int* A, int* B, int* C, int size) {\n",
        "    int tid = blockIdx.x * blockDim.x + threadIdx.x;\n",
        "    if (tid < size) {\n",
        "        C[tid] = A[tid] + B[tid];\n",
        "        printf(\"Thread %d: %d + %d = %d\\n\", tid, A[tid], B[tid], C[tid]);\n",
        "    }\n",
        "}\n",
        "\n",
        "void print(int* vector, int size) {\n",
        "    for (int i = 0; i < size; i++) {\n",
        "        cout << vector[i] << \" \";\n",
        "    }\n",
        "    cout << endl;\n",
        "}\n",
        "\n",
        "int main() {\n",
        "    int N;\n",
        "    cout << \"Enter the size of the vectors: \";\n",
        "    cin >> N;\n",
        "\n",
        "    // Allocate host memory\n",
        "    int* A = new int[N];\n",
        "    int* B = new int[N];\n",
        "    int* C = new int[N];\n",
        "\n",
        "    // Initialize host arrays\n",
        "    cout << \"Enter elements for vector A: \";\n",
        "    for (int i = 0; i < N; i++) {\n",
        "        cin >> A[i];\n",
        "    }\n",
        "\n",
        "    cout << \"Enter elements for vector B: \";\n",
        "    for (int i = 0; i < N; i++) {\n",
        "        cin >> B[i];\n",
        "    }\n",
        "\n",
        "    cout << \"Vector A: \";\n",
        "    print(A, N);\n",
        "    cout << \"Vector B: \";\n",
        "    print(B, N);\n",
        "\n",
        "    int* X, * Y, * Z;\n",
        "    size_t vectorBytes = N * sizeof(int);\n",
        "\n",
        "    // Allocate device memory\n",
        "    cudaMalloc(&X, vectorBytes);\n",
        "    cudaMalloc(&Y, vectorBytes);\n",
        "    cudaMalloc(&Z, vectorBytes);\n",
        "\n",
        "    // Copy data from host to device\n",
        "    cudaMemcpy(X, A, vectorBytes, cudaMemcpyHostToDevice);\n",
        "    cudaMemcpy(Y, B, vectorBytes, cudaMemcpyHostToDevice);\n",
        "\n",
        "    int threadsPerBlock = 256;\n",
        "    int blocksPerGrid = (N + threadsPerBlock - 1) / threadsPerBlock;\n",
        "\n",
        "    // Launch kernel\n",
        "    add<<<blocksPerGrid, threadsPerBlock>>>(X, Y, Z, N);\n",
        "\n",
        "    // Copy result from device to host\n",
        "    cudaMemcpy(C, Z, vectorBytes, cudaMemcpyDeviceToHost);\n",
        "\n",
        "    cout << \"Addition: \";\n",
        "    print(C, N);\n",
        "\n",
        "    // Free device memory\n",
        "    cudaFree(X);\n",
        "    cudaFree(Y);\n",
        "    cudaFree(Z);\n",
        "\n",
        "    // Free host memory\n",
        "    delete[] A;\n",
        "    delete[] B;\n",
        "    delete[] C;\n",
        "\n",
        "    return 0;\n",
        "}"
      ],
      "metadata": {
        "colab": {
          "base_uri": "https://localhost:8080/"
        },
        "id": "6yJRhx3z6Vyt",
        "outputId": "6b1c6b10-bb70-432c-d6b6-6c9667024e68"
      },
      "execution_count": null,
      "outputs": [
        {
          "output_type": "stream",
          "name": "stdout",
          "text": [
            "Overwriting add.cu\n"
          ]
        }
      ]
    },
    {
      "cell_type": "code",
      "source": [
        "!nvcc add.cu -o vector"
      ],
      "metadata": {
        "id": "SeUSJvI05NKu"
      },
      "execution_count": null,
      "outputs": []
    },
    {
      "cell_type": "code",
      "source": [
        "!./vector"
      ],
      "metadata": {
        "colab": {
          "base_uri": "https://localhost:8080/"
        },
        "id": "wukOnzwb5SML",
        "outputId": "239b2843-5f89-4719-e7cc-4e37b046d2dd"
      },
      "execution_count": null,
      "outputs": [
        {
          "output_type": "stream",
          "name": "stdout",
          "text": [
            "Enter the size of the vectors: 5\n",
            "Enter elements for vector A: 2 3 4 5 6\n",
            "Enter elements for vector B: 5 8 7 9 5\n",
            "Vector A: 2 3 4 5 6 \n",
            "Vector B: 5 8 7 9 5 \n",
            "Thread 0: 2 + 5 = 7\n",
            "Thread 1: 3 + 8 = 11\n",
            "Thread 2: 4 + 7 = 11\n",
            "Thread 3: 5 + 9 = 14\n",
            "Thread 4: 6 + 5 = 11\n",
            "Addition: 7 11 11 14 11 \n"
          ]
        }
      ]
    },
    {
      "cell_type": "code",
      "source": [],
      "metadata": {
        "id": "lVQVrbVG6KVe"
      },
      "execution_count": null,
      "outputs": []
    }
  ]
}