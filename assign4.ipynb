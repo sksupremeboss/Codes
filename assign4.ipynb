{
 "cells": [
  {
   "cell_type": "code",
   "execution_count": 1,
   "metadata": {
    "id": "ZTS3M-D5Fn8R"
   },
   "outputs": [
    {
     "name": "stdout",
     "output_type": "stream",
     "text": [
      "WARNING:tensorflow:From C:\\python 39\\lib\\site-packages\\keras\\src\\losses.py:2976: The name tf.losses.sparse_softmax_cross_entropy is deprecated. Please use tf.compat.v1.losses.sparse_softmax_cross_entropy instead.\n",
      "\n"
     ]
    }
   ],
   "source": [
    "import numpy as np\n",
    "import pandas as pd\n",
    "import matplotlib.pyplot as plt\n",
    "from sklearn.preprocessing import MinMaxScaler\n",
    "from tensorflow.keras.models import Sequential\n",
    "from tensorflow.keras.layers import LSTM, Dense\n",
    "import time"
   ]
  },
  {
   "cell_type": "code",
   "execution_count": 2,
   "metadata": {
    "id": "zL-7inW8F9jx"
   },
   "outputs": [],
   "source": [
    "# Load the dataset\n",
    "df = pd.read_csv('GOOGL.csv')"
   ]
  },
  {
   "cell_type": "code",
   "execution_count": 3,
   "metadata": {
    "colab": {
     "base_uri": "https://localhost:8080/",
     "height": 206
    },
    "id": "vl-ibaDHGDZN",
    "outputId": "7dfcc2c2-a298-4d82-e22d-e5deaeb75785"
   },
   "outputs": [
    {
     "data": {
      "text/html": [
       "<div>\n",
       "<style scoped>\n",
       "    .dataframe tbody tr th:only-of-type {\n",
       "        vertical-align: middle;\n",
       "    }\n",
       "\n",
       "    .dataframe tbody tr th {\n",
       "        vertical-align: top;\n",
       "    }\n",
       "\n",
       "    .dataframe thead th {\n",
       "        text-align: right;\n",
       "    }\n",
       "</style>\n",
       "<table border=\"1\" class=\"dataframe\">\n",
       "  <thead>\n",
       "    <tr style=\"text-align: right;\">\n",
       "      <th></th>\n",
       "      <th>Date</th>\n",
       "      <th>Open</th>\n",
       "      <th>High</th>\n",
       "      <th>Low</th>\n",
       "      <th>Close</th>\n",
       "      <th>Adj Close</th>\n",
       "      <th>Volume</th>\n",
       "    </tr>\n",
       "  </thead>\n",
       "  <tbody>\n",
       "    <tr>\n",
       "      <th>0</th>\n",
       "      <td>2004-08-19</td>\n",
       "      <td>50.050049</td>\n",
       "      <td>52.082081</td>\n",
       "      <td>48.028027</td>\n",
       "      <td>50.220219</td>\n",
       "      <td>50.220219</td>\n",
       "      <td>44659096</td>\n",
       "    </tr>\n",
       "    <tr>\n",
       "      <th>1</th>\n",
       "      <td>2004-08-20</td>\n",
       "      <td>50.555557</td>\n",
       "      <td>54.594597</td>\n",
       "      <td>50.300301</td>\n",
       "      <td>54.209209</td>\n",
       "      <td>54.209209</td>\n",
       "      <td>22834343</td>\n",
       "    </tr>\n",
       "    <tr>\n",
       "      <th>2</th>\n",
       "      <td>2004-08-23</td>\n",
       "      <td>55.430431</td>\n",
       "      <td>56.796799</td>\n",
       "      <td>54.579578</td>\n",
       "      <td>54.754753</td>\n",
       "      <td>54.754753</td>\n",
       "      <td>18256126</td>\n",
       "    </tr>\n",
       "    <tr>\n",
       "      <th>3</th>\n",
       "      <td>2004-08-24</td>\n",
       "      <td>55.675674</td>\n",
       "      <td>55.855858</td>\n",
       "      <td>51.836838</td>\n",
       "      <td>52.487488</td>\n",
       "      <td>52.487488</td>\n",
       "      <td>15247337</td>\n",
       "    </tr>\n",
       "    <tr>\n",
       "      <th>4</th>\n",
       "      <td>2004-08-25</td>\n",
       "      <td>52.532532</td>\n",
       "      <td>54.054054</td>\n",
       "      <td>51.991993</td>\n",
       "      <td>53.053055</td>\n",
       "      <td>53.053055</td>\n",
       "      <td>9188602</td>\n",
       "    </tr>\n",
       "  </tbody>\n",
       "</table>\n",
       "</div>"
      ],
      "text/plain": [
       "         Date       Open       High        Low      Close  Adj Close    Volume\n",
       "0  2004-08-19  50.050049  52.082081  48.028027  50.220219  50.220219  44659096\n",
       "1  2004-08-20  50.555557  54.594597  50.300301  54.209209  54.209209  22834343\n",
       "2  2004-08-23  55.430431  56.796799  54.579578  54.754753  54.754753  18256126\n",
       "3  2004-08-24  55.675674  55.855858  51.836838  52.487488  52.487488  15247337\n",
       "4  2004-08-25  52.532532  54.054054  51.991993  53.053055  53.053055   9188602"
      ]
     },
     "execution_count": 3,
     "metadata": {},
     "output_type": "execute_result"
    }
   ],
   "source": [
    "df.head()"
   ]
  },
  {
   "cell_type": "code",
   "execution_count": 4,
   "metadata": {},
   "outputs": [
    {
     "data": {
      "text/html": [
       "<div>\n",
       "<style scoped>\n",
       "    .dataframe tbody tr th:only-of-type {\n",
       "        vertical-align: middle;\n",
       "    }\n",
       "\n",
       "    .dataframe tbody tr th {\n",
       "        vertical-align: top;\n",
       "    }\n",
       "\n",
       "    .dataframe thead th {\n",
       "        text-align: right;\n",
       "    }\n",
       "</style>\n",
       "<table border=\"1\" class=\"dataframe\">\n",
       "  <thead>\n",
       "    <tr style=\"text-align: right;\">\n",
       "      <th></th>\n",
       "      <th>Date</th>\n",
       "      <th>Open</th>\n",
       "      <th>High</th>\n",
       "      <th>Low</th>\n",
       "      <th>Close</th>\n",
       "      <th>Adj Close</th>\n",
       "      <th>Volume</th>\n",
       "    </tr>\n",
       "  </thead>\n",
       "  <tbody>\n",
       "    <tr>\n",
       "      <th>4426</th>\n",
       "      <td>2022-03-18</td>\n",
       "      <td>2668.489990</td>\n",
       "      <td>2724.879883</td>\n",
       "      <td>2645.169922</td>\n",
       "      <td>2722.510010</td>\n",
       "      <td>2722.510010</td>\n",
       "      <td>2223100</td>\n",
       "    </tr>\n",
       "    <tr>\n",
       "      <th>4427</th>\n",
       "      <td>2022-03-21</td>\n",
       "      <td>2723.270020</td>\n",
       "      <td>2741.000000</td>\n",
       "      <td>2681.850098</td>\n",
       "      <td>2722.030029</td>\n",
       "      <td>2722.030029</td>\n",
       "      <td>1341600</td>\n",
       "    </tr>\n",
       "    <tr>\n",
       "      <th>4428</th>\n",
       "      <td>2022-03-22</td>\n",
       "      <td>2722.030029</td>\n",
       "      <td>2821.000000</td>\n",
       "      <td>2722.030029</td>\n",
       "      <td>2797.360107</td>\n",
       "      <td>2797.360107</td>\n",
       "      <td>1774800</td>\n",
       "    </tr>\n",
       "    <tr>\n",
       "      <th>4429</th>\n",
       "      <td>2022-03-23</td>\n",
       "      <td>2774.050049</td>\n",
       "      <td>2791.770020</td>\n",
       "      <td>2756.699951</td>\n",
       "      <td>2765.510010</td>\n",
       "      <td>2765.510010</td>\n",
       "      <td>1257700</td>\n",
       "    </tr>\n",
       "    <tr>\n",
       "      <th>4430</th>\n",
       "      <td>2022-03-24</td>\n",
       "      <td>2784.000000</td>\n",
       "      <td>2832.379883</td>\n",
       "      <td>2755.010010</td>\n",
       "      <td>2831.439941</td>\n",
       "      <td>2831.439941</td>\n",
       "      <td>1317900</td>\n",
       "    </tr>\n",
       "  </tbody>\n",
       "</table>\n",
       "</div>"
      ],
      "text/plain": [
       "            Date         Open         High          Low        Close  \\\n",
       "4426  2022-03-18  2668.489990  2724.879883  2645.169922  2722.510010   \n",
       "4427  2022-03-21  2723.270020  2741.000000  2681.850098  2722.030029   \n",
       "4428  2022-03-22  2722.030029  2821.000000  2722.030029  2797.360107   \n",
       "4429  2022-03-23  2774.050049  2791.770020  2756.699951  2765.510010   \n",
       "4430  2022-03-24  2784.000000  2832.379883  2755.010010  2831.439941   \n",
       "\n",
       "        Adj Close   Volume  \n",
       "4426  2722.510010  2223100  \n",
       "4427  2722.030029  1341600  \n",
       "4428  2797.360107  1774800  \n",
       "4429  2765.510010  1257700  \n",
       "4430  2831.439941  1317900  "
      ]
     },
     "execution_count": 4,
     "metadata": {},
     "output_type": "execute_result"
    }
   ],
   "source": [
    "df.tail()"
   ]
  },
  {
   "cell_type": "code",
   "execution_count": 5,
   "metadata": {
    "colab": {
     "base_uri": "https://localhost:8080/",
     "height": 564
    },
    "id": "Hqpv5HytH3fc",
    "outputId": "6a9e05aa-121e-4798-987b-b38ad2f3a744"
   },
   "outputs": [
    {
     "data": {
      "image/png": "[encoded data removed]",
      "text/plain": [
       "<Figure size 1000x600 with 1 Axes>"
      ]
     },
     "metadata": {},
     "output_type": "display_data"
    }
   ],
   "source": [
    "# Visualize the dataset\n",
    "plt.figure(figsize=(10, 6))\n",
    "plt.plot(df['Close'], label='Google Stock Price')\n",
    "plt.xlabel('Time (2004-2022)')\n",
    "plt.ylabel('Stock Price')\n",
    "plt.title('Google Stock Price Over Period 2004 to 2022')\n",
    "plt.legend()\n",
    "plt.show()"
   ]
  },
  {
   "cell_type": "code",
   "execution_count": 6,
   "metadata": {
    "id": "Y81GIdJUGFT2"
   },
   "outputs": [],
   "source": [
    "# Preprocess the data\n",
    "scaler = MinMaxScaler(feature_range=(0, 1))\n",
    "df['Close_scaled'] = scaler.fit_transform(df['Close'].values.reshape(-1,1))"
   ]
  },
  {
   "cell_type": "code",
   "execution_count": 7,
   "metadata": {
    "id": "OsIJdydEGM-9"
   },
   "outputs": [],
   "source": [
    "def create_dataset(data, time_steps):\n",
    "    X, y = [], []\n",
    "    for i in range(len(data) - time_steps):\n",
    "        X.append(data[i:(i + time_steps)])\n",
    "        y.append(data[i + time_steps])\n",
    "    return np.array(X), np.array(y)"
   ]
  },
  {
   "cell_type": "code",
   "execution_count": 8,
   "metadata": {
    "id": "9aWxn3qCGQSp"
   },
   "outputs": [],
   "source": [
    "time_steps = 30  # Number of time steps to look back\n",
    "X, y = create_dataset(df['Close_scaled'].values, time_steps)"
   ]
  },
  {
   "cell_type": "code",
   "execution_count": 9,
   "metadata": {
    "id": "iEQ47mF0GSjX"
   },
   "outputs": [],
   "source": [
    "# Split the dataset into training and testing sets\n",
    "split = int(0.8 * len(X))\n",
    "X_train, X_test = X[:split], X[split:]\n",
    "y_train, y_test = y[:split], y[split:]"
   ]
  },
  {
   "cell_type": "code",
   "execution_count": 10,
   "metadata": {},
   "outputs": [
    {
     "name": "stdout",
     "output_type": "stream",
     "text": [
      "3520\n"
     ]
    }
   ],
   "source": [
    "print(split)"
   ]
  },
  {
   "cell_type": "code",
   "execution_count": 11,
   "metadata": {},
   "outputs": [
    {
     "data": {
      "text/plain": [
       "Date             2018-08-13\n",
       "Open            1251.199951\n",
       "High            1265.969971\n",
       "Low             1247.030029\n",
       "Close           1248.640015\n",
       "Adj Close       1248.640015\n",
       "Volume              1375000\n",
       "Close_scaled       0.406753\n",
       "Name: 3520, dtype: object"
      ]
     },
     "execution_count": 11,
     "metadata": {},
     "output_type": "execute_result"
    }
   ],
   "source": [
    "df.iloc[3520]"
   ]
  },
  {
   "cell_type": "code",
   "execution_count": 12,
   "metadata": {
    "id": "TQriiqRcGUlW"
   },
   "outputs": [
    {
     "name": "stdout",
     "output_type": "stream",
     "text": [
      "WARNING:tensorflow:From C:\\python 39\\lib\\site-packages\\keras\\src\\layers\\rnn\\lstm.py:148: The name tf.executing_eagerly_outside_functions is deprecated. Please use tf.compat.v1.executing_eagerly_outside_functions instead.\n",
      "\n"
     ]
    }
   ],
   "source": [
    "# Build the RNN model\n",
    "model = Sequential([\n",
    "    LSTM(units=50, return_sequences=True, input_shape=(X_train.shape[1], 1)),\n",
    "    LSTM(units=50),\n",
    "    Dense(units=1)\n",
    "])"
   ]
  },
  {
   "cell_type": "code",
   "execution_count": 13,
   "metadata": {
    "id": "2uCX2254GWft"
   },
   "outputs": [
    {
     "name": "stdout",
     "output_type": "stream",
     "text": [
      "WARNING:tensorflow:From C:\\python 39\\lib\\site-packages\\keras\\src\\optimizers\\__init__.py:309: The name tf.train.Optimizer is deprecated. Please use tf.compat.v1.train.Optimizer instead.\n",
      "\n"
     ]
    }
   ],
   "source": [
    "# Compile the model\n",
    "model.compile(optimizer='adam', loss='mean_squared_error')"
   ]
  },
  {
   "cell_type": "code",
   "execution_count": 14,
   "metadata": {
    "id": "BelFwFt5GZB2"
   },
   "outputs": [],
   "source": [
    "# Measure training time\n",
    "start_time = time.time()"
   ]
  },
  {
   "cell_type": "code",
   "execution_count": 15,
   "metadata": {
    "colab": {
     "base_uri": "https://localhost:8080/"
    },
    "id": "BKbXLh7mGjAN",
    "outputId": "e2702fee-bd7b-45a0-864d-a4b61dfa0ffc"
   },
   "outputs": [
    {
     "name": "stdout",
     "output_type": "stream",
     "text": [
      "Epoch 1/10\n",
      "WARNING:tensorflow:From C:\\python 39\\lib\\site-packages\\keras\\src\\utils\\tf_utils.py:492: The name tf.ragged.RaggedTensorValue is deprecated. Please use tf.compat.v1.ragged.RaggedTensorValue instead.\n",
      "\n",
      "88/88 [==============================] - 10s 52ms/step - loss: 4.0711e-04 - val_loss: 1.5294e-04\n",
      "Epoch 2/10\n",
      "88/88 [==============================] - 3s 36ms/step - loss: 2.4678e-05 - val_loss: 1.1988e-04\n",
      "Epoch 3/10\n",
      "88/88 [==============================] - 3s 36ms/step - loss: 2.4448e-05 - val_loss: 1.7210e-04\n",
      "Epoch 4/10\n",
      "88/88 [==============================] - 3s 36ms/step - loss: 2.4573e-05 - val_loss: 1.4247e-04\n",
      "Epoch 5/10\n",
      "88/88 [==============================] - 3s 36ms/step - loss: 2.5690e-05 - val_loss: 8.7507e-05\n",
      "Epoch 6/10\n",
      "88/88 [==============================] - 3s 36ms/step - loss: 2.1163e-05 - val_loss: 1.0805e-04\n",
      "Epoch 7/10\n",
      "88/88 [==============================] - 3s 37ms/step - loss: 1.9360e-05 - val_loss: 1.0366e-04\n",
      "Epoch 8/10\n",
      "88/88 [==============================] - 3s 36ms/step - loss: 1.8828e-05 - val_loss: 1.0828e-04\n",
      "Epoch 9/10\n",
      "88/88 [==============================] - 3s 37ms/step - loss: 1.7778e-05 - val_loss: 9.9707e-05\n",
      "Epoch 10/10\n",
      "88/88 [==============================] - 3s 36ms/step - loss: 1.6500e-05 - val_loss: 7.2322e-05\n"
     ]
    }
   ],
   "source": [
    "# Train the model\n",
    "history = model.fit(X_train, y_train, epochs=10, batch_size=32, validation_split=0.2)"
   ]
  },
  {
   "cell_type": "code",
   "execution_count": 16,
   "metadata": {
    "colab": {
     "base_uri": "https://localhost:8080/"
    },
    "id": "8dZ0WzQuGloY",
    "outputId": "528c2976-b140-41ef-9960-458a10348e89"
   },
   "outputs": [
    {
     "name": "stdout",
     "output_type": "stream",
     "text": [
      "Training Time: 39.037747859954834 seconds\n"
     ]
    }
   ],
   "source": [
    "training_time = time.time() - start_time\n",
    "print(\"Training Time:\", training_time, \"seconds\")"
   ]
  },
  {
   "cell_type": "code",
   "execution_count": 17,
   "metadata": {
    "colab": {
     "base_uri": "https://localhost:8080/"
    },
    "id": "7bdicL4yGxFD",
    "outputId": "3c4800d1-6170-4e89-d6b4-6ebef7cd19bd"
   },
   "outputs": [
    {
     "name": "stdout",
     "output_type": "stream",
     "text": [
      "28/28 [==============================] - 2s 15ms/step - loss: 4.2428e-04\n",
      "Test Loss: 0.000424279976869002\n"
     ]
    }
   ],
   "source": [
    "# Evaluate the model\n",
    "loss = model.evaluate(X_test, y_test)\n",
    "print(\"Test Loss:\", loss)"
   ]
  },
  {
   "cell_type": "code",
   "execution_count": 18,
   "metadata": {
    "id": "jA4d3BTuG2ik"
   },
   "outputs": [],
   "source": [
    "# Measure prediction time\n",
    "start_time = time.time()"
   ]
  },
  {
   "cell_type": "code",
   "execution_count": 19,
   "metadata": {
    "colab": {
     "base_uri": "https://localhost:8080/"
    },
    "id": "D-1uEkiuG57-",
    "outputId": "1e762143-4668-4a83-f97a-47da3ae8acb2"
   },
   "outputs": [
    {
     "name": "stdout",
     "output_type": "stream",
     "text": [
      "28/28 [==============================] - 2s 15ms/step\n"
     ]
    }
   ],
   "source": [
    "# Make predictions\n",
    "predictions = model.predict(X_test)"
   ]
  },
  {
   "cell_type": "code",
   "execution_count": 20,
   "metadata": {
    "colab": {
     "base_uri": "https://localhost:8080/"
    },
    "id": "8JP-7WwxG8Ny",
    "outputId": "db4d2c08-5211-456d-d972-583df1f4da62"
   },
   "outputs": [
    {
     "name": "stdout",
     "output_type": "stream",
     "text": [
      "Prediction Time: 2.110128164291382 seconds\n"
     ]
    }
   ],
   "source": [
    "prediction_time = time.time() - start_time\n",
    "print(\"Prediction Time:\", prediction_time, \"seconds\")"
   ]
  },
  {
   "cell_type": "code",
   "execution_count": 21,
   "metadata": {
    "colab": {
     "base_uri": "https://localhost:8080/",
     "height": 449
    },
    "id": "hXEpcirVG_cz",
    "outputId": "e18807ba-266e-43e4-8bf8-b381746bf6d6"
   },
   "outputs": [
    {
     "data": {
      "image/png": "[encoded data removed]",
      "text/plain": [
       "<Figure size 640x480 with 1 Axes>"
      ]
     },
     "metadata": {},
     "output_type": "display_data"
    }
   ],
   "source": [
    "# Plot predictions vs actual\n",
    "plt.plot(predictions, label='Predictions')\n",
    "plt.plot(y_test, label='Actual')\n",
    "plt.xlabel('Time(2018-2022)')\n",
    "plt.ylabel('Scaled Stock Price')\n",
    "plt.title(\"Google stock price prediction 2018-2022\")\n",
    "plt.legend()\n",
    "plt.show()"
   ]
  },
  {
   "cell_type": "markdown",
   "metadata": {
    "id": "ZXuk2JHIHJQd"
   },
   "source": [
    "\n",
    "We load the Google stock prices dataset and preprocess it by scaling the 'Close' prices between 0 and 1.\n",
    "We create sequences of input-output pairs for training the RNN model.\n",
    "We split the dataset into training and testing sets.\n",
    "We define an RNN model using LSTM layers.\n",
    "We compile the model with mean squared error loss and the Adam optimizer.\n",
    "We train the model on the training data.\n",
    "We evaluate the model on the testing data and print the test loss.\n",
    "We make predictions using the trained model and plot them against the actual stock prices."
   ]
  }
 ],
 "metadata": {
  "colab": {
   "authorship_tag": "ABX9TyPB/NcMODfbXpk5JGyHNxoH",
   "provenance": []
  },
  "kernelspec": {
   "display_name": "Python 3 (ipykernel)",
   "language": "python",
   "name": "python3"
  },
  "language_info": {
   "codemirror_mode": {
    "name": "ipython",
    "version": 3
   },
   "file_extension": ".py",
   "mimetype": "text/x-python",
   "name": "python",
   "nbconvert_exporter": "python",
   "pygments_lexer": "ipython3",
   "version": "3.9.7"
  }
 },
 "nbformat": 4,
 "nbformat_minor": 1
}
